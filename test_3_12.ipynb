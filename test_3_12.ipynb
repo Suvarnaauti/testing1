{
 "cells": [
  {
   "cell_type": "markdown",
   "id": "99d00ca0-733a-446e-af25-de248378edab",
   "metadata": {},
   "source": [
    "python_hackathon"
   ]
  },
  {
   "cell_type": "code",
   "execution_count": 2,
   "id": "b3437b75-dc7e-4517-b4d9-73df1bf59777",
   "metadata": {},
   "outputs": [
    {
     "name": "stdout",
     "output_type": "stream",
     "text": [
      "hello\n"
     ]
    }
   ],
   "source": [
    "print(\"hello\")"
   ]
  },
  {
   "cell_type": "code",
   "execution_count": null,
   "id": "c20f937a-6d9a-4daa-870c-71be3a09f520",
   "metadata": {},
   "outputs": [],
   "source": []
  }
 ],
 "metadata": {
  "kernelspec": {
   "display_name": "Python 3 (ipykernel)",
   "language": "python",
   "name": "python3"
  },
  "language_info": {
   "codemirror_mode": {
    "name": "ipython",
    "version": 3
   },
   "file_extension": ".py",
   "mimetype": "text/x-python",
   "name": "python",
   "nbconvert_exporter": "python",
   "pygments_lexer": "ipython3",
   "version": "3.12.4"
  }
 },
 "nbformat": 4,
 "nbformat_minor": 5
}
